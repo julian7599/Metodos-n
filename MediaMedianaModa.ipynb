{
  "nbformat": 4,
  "nbformat_minor": 0,
  "metadata": {
    "colab": {
      "name": "MediaMedianaModa.ipynb",
      "provenance": [],
      "collapsed_sections": [],
      "authorship_tag": "ABX9TyObV3VagofwNuQB8bCNfyzg",
      "include_colab_link": true
    },
    "kernelspec": {
      "name": "python3",
      "display_name": "Python 3"
    }
  },
  "cells": [
    {
      "cell_type": "markdown",
      "metadata": {
        "id": "view-in-github",
        "colab_type": "text"
      },
      "source": [
        "<a href=\"https://colab.research.google.com/github/julian7599/metodos-numerios/blob/master/MediaMedianaModa.ipynb\" target=\"_parent\"><img src=\"https://colab.research.google.com/assets/colab-badge.svg\" alt=\"Open In Colab\"/></a>"
      ]
    },
    {
      "cell_type": "markdown",
      "metadata": {
        "id": "xWB23x5qQOae",
        "colab_type": "text"
      },
      "source": [
        "**statsmodels**\n",
        "\n",
        "Esta librería nos brinda un gran número de herramientas para explorar datos, estimar modelos estadísticos, realizar pruebas estadísticas y muchas cosas más"
      ]
    },
    {
      "cell_type": "code",
      "metadata": {
        "id": "fUcCRS45QPE2",
        "colab_type": "code",
        "colab": {
          "base_uri": "https://localhost:8080/",
          "height": 68
        },
        "outputId": "b663b6f1-cffa-4d41-d856-3e284d1cb68e"
      },
      "source": [
        "#La función mean() devuelve la media aritmética de los datos de una muestra o población\n",
        "#La función median() devuelve la mediana o valor medio de los datos. \n",
        "#La función mode() devuelve el valor más frecuente de los datos.\n",
        "\n",
        "\n",
        "import statistics as stats\n",
        "\n",
        "edades = [10, 10, 40, 36, 14, 54, 84, 13, 31, 12, 48, 48 , 64, 46, 30, 20, 63, 58, 64, 48]\n",
        "\n",
        "print (\"media:\", stats.mean(edades))\n",
        "print (\"mediana:\", stats.median(edades))\n",
        "print (\"moda:\", stats.mode(edades)) "
      ],
      "execution_count": 9,
      "outputs": [
        {
          "output_type": "stream",
          "text": [
            "media: 39.65\n",
            "mediana: 43.0\n",
            "moda: 48\n"
          ],
          "name": "stdout"
        }
      ]
    }
  ]
}