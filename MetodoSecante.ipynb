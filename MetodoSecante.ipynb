{
  "nbformat": 4,
  "nbformat_minor": 0,
  "metadata": {
    "colab": {
      "name": "MetodoSecante.ipynb",
      "provenance": [],
      "collapsed_sections": [],
      "authorship_tag": "ABX9TyP1spbtWEYPOfmNj6Ro+4U3",
      "include_colab_link": true
    },
    "kernelspec": {
      "name": "python3",
      "display_name": "Python 3"
    }
  },
  "cells": [
    {
      "cell_type": "markdown",
      "metadata": {
        "id": "view-in-github",
        "colab_type": "text"
      },
      "source": [
        "<a href=\"https://colab.research.google.com/github/julian7599/metodos-numerios/blob/master/MetodoSecante.ipynb\" target=\"_parent\"><img src=\"https://colab.research.google.com/assets/colab-badge.svg\" alt=\"Open In Colab\"/></a>"
      ]
    },
    {
      "cell_type": "markdown",
      "metadata": {
        "id": "4oTQsjpzRyWe",
        "colab_type": "text"
      },
      "source": [
        "**Método de la Secante**\n",
        "\n",
        "En análisis numérico el método de la secante es un método para encontrar los ceros de una función de forma iterativa\n",
        "\n",
        " ![image.png](data:image/png;base64,iVBORw0KGgoAAAANSUhEUgAAAXkAAABACAYAAAD/AQfsAAAPCklEQVR4Ae1dLXDcPBA9WBhYWFj4wc6hwsLCwqBMYGFYYGHDCgsDwxJYGBhYEBBYWFiob1bW2mtbP6uzJPsuzzM357Pk1e6T9LRay7qdwQEEgAAQAAIni8DuZC2DYUAACAABIGBA8mgEQAAIAIETRgAkf8KVC9OAABAAAiB5tIFNIvDjxw/z5cuXTeoGpeYIvLy8mI8fP5rHx8d5Iq6sigBIflX4UfgUgaenJ/Pu3Tvz4cMH8+fPn2kyfm8Ygbu7O3N2dmY+f/5s/v37t2FNX5dqIPnXVd+btvbv37+W4M/PzzetJ5QLI0AD89u3bw3qMIxR6xSQfGvEUV4QAfIAiSCI7HEcLwK3t7dmt9sZ+saxPgIg+fXrABoYYwkBxHA6TeHTp082dLNK2Ob5xux3O3NxH8Pz2dzsd3YwonZnP7EbVDJj5enSnm/2Zre7MFHVdaL6XCD5HgqcrIkAk0JQB9fJ+g5pOyZ3hntzwR3Vfc/7q+jU88RgsUUTTsEGJSAUn28/aHMdc7sIKCvqwTaFKIFHZAo5Q7vkshe0SZZbqJ2C5APtAJfbIUDhmTdv3tgHdrFSOy+Hva+9uXkWue8veq/M2ze44+x2Zj+6UchocHoKNmhgojol4mu3QsqR8f7GyGYx15VJm9oRE/I8V3clLbNefbpBwtuYQ/r6r4Pk/bjgakMEfv78aQmBvuOH9I4kyQ8dN9gnUoNAvOCCqadggw4OWlJJg3eLkI06zCEG+11iQNDJrFifrs0G27SuGvDGqxInZKuIAHl75PX9/v07Wcr9BXvyg0fO3tSaHnpScZHhFGwQ5gRPr66ubL0+PDwE85RJ0Hu93FaovcXbi15mvfpMzyQ0+MGT16CEPFURII+POp3K45t6Yuyhh9wdmX8Ux69qUly41Im8yWO0IW6hTaUX2qhe0zO0QZgl4VBdDtlGZx1xy5ndKLn7ITGfPL/xkb1KJhcjZReuzyw9WJ/JN0h+Agh+tkeAXn4iMtAdQ2iG7rGfFCkwiVL+VF6dEgtznYINaQg4DHd9fR3PTPXj6oVIjUmXPGQ+jwnoPOlUfJ0kSNzj+fUyp3ILt0k3gGhwCGGk7Vmh+3EdCCxGgOK2RPTao/NuXGdKxFWtTEHySzqLVj9NvlOwIWXnr1+/7CB8eXkZzfr8/GyMraMLc39/YfZ7WkbYDcg2LXq3C6to2oER8fNo/hyZnXL16lMfNgrBBJIPIYPrTRCgEA116ByS7wiBY/Nxj4yMGDpgYkrfxGJXiBh40qs8NmpDAi8mefXbr33YI6eeMkhQYh6d0WXIZAyk7OSqnZz6zB9wWCX+BskzEvheDYEsku+JgEk+NaUXU/So9zaYPwwKQxnWs+Tw0Ow7h5TsqGNf1pEy4zOMfBsGa9Y7yyF5iznVD3nyN/f2RaUoD7NZ3B4UmWW9RrNnyLRqcH7RLsrVJ9d92plhSKbfIPkpIvjdHAHy4mljq+TBncmRQU+SMfLme9z0P1lG7QyszzHboMSIX4hKxeQt+TrWlec2Lh5lYzFgpvIZigjxoJ0YlLmOFDIN561WnyB5ZXNDti0jQDtOEmHHj+m0lRs/ddxIpxXTaE2fjeuwNPUUbNBjwA9eaZWN9pAkr7tHG1px+ay3nfKKM2X2TkaNNjltMzpUZK5Uz5J5cQ4EqiBAG5MRydOe5P6DO8+4c8rpN6/OmN4v81iSJ8+r75TT3DV/n4INefiQB0/1Sh59vUNJguxxq2Z0Gpmt6lM74IQRBsmHsUFKIwSYDPwvzXBn8sTehZce8uYlyXN4Jx4vrWH0Fm1gncYDZ0nr+SW38OBdpjTNckfZDjT1H5fJ2DVok25w0ugcQhMkH0IG15shQG+6EgF//fp1XKb0vuw0W4RlZmmhsI3zhOz9qZ0Jx8UX+TXTc30bJOFpVvYcigM9Z6FQXO2D7YmF44Z4vK4NBGU2rs+gHhmgguQzwELWegi8f/8+bxllPVVOWjKRnfUK+1lQHU+eV9Z8+/atAZ6pkMbgeesHtZTMBmbxy1sLw4sg+RZ1hTKSCHDIhv7+D0cDBCqTPM3K4s9ZytrYebxiliTFC+87J+wRlSnl1zp3dRSboWiKBslrUEKe6gjwX/+1mN5XN+YYCqhI8jRQ01vMs/BbVVyct+7xevtQjSctrlJYZvy+EqnlZhLLSF6MkPxQa5gOjWOhlD4fkcQ0ap5YAqksGdwYNqDKoPeJYTwYNj97fHy05JCzodVcymu7IvqQe+4w9EW3LtzXoCuSPG04R4O1asO5otXFWHAISnCQDwNV2VOZqpuWZeI+f7DO4+KXkfzolXHPg6++IfkIXrzIkNz2c6x08V9CT/9gVLzELIH88KXrvJMpqdDd2ya4wayNsdLi79+/W6JvE8tVKnWK2fp2w4S43Ej6E2/+hy/NttHLSwxIcLZ5+0PgluTlGjI9hXZ9vVydUBGLSd7ITX9GL6XwCBggeCq9b2iRPB4gukud/JwY21zUoKP0foo2jnmhB1wRHklTjA9QtcAtNN0nsqD18zgqIdD3vTKEQssk6U/YaQ95/BF7pTo7UGwBkpevCw/rRtn7XEbCMauWkvz4fg7VbNGTJxSkfoxpfYxj+NdPI88QRx0EuO0M4dXl5aC+lmNYQ0IRku/3b6CYID3cYC8h5BKLEELnQR/iTYxJeik4kkRDai8tY9H9ErNmGC/SGDdvEQHum7P4/SF9cIsGQqcpAmVIntdzyoaTYkrZ2FJ5p1rb39sh+cErcg+6JA7e80lc3Wvf9GJnrwwrhV7l7+9cjHEvCSdAAAgcKQKFSF7uj+y8+RQggoA4/JC6ZZy+HZIf61Xv12gw0SwHW4xxPVsgGQgAgTYIFCN5+RBVE+cbCOsQr5bAeX0k3x7juo1wNCvxzni0MyPkA5avow0c0iPLkLyMF7vOGvfORehB4ZEOA4K2IvMHjqOKyVfA2Nd4WuDuKxfXgAAQKIfAcpJngpcPA4mEYuTN91C+g+LxBMB2PPnqZMh4Nce4XEODJCAABNZBYCHJu/XbPaELD320nntinIgVH8zxGyL5iXWFf66JcWFTIA4IAIHmCCwgeSb08dKrkVcbYHCZx2YhT7UfKLQYbMeT12qcn29tjPM1PrU7ar+aX1v+qdUH7MlH4ECSZ/IZXn7qixZeet0/cihJ8vKN0iUhpB6FAidbwLiAGUcogoiX/rKO/nuWtsytedze3hraZhn79dRE+XXLzid5jg+7h38jIp+l0YNS30PQMakGHP5EzSwneTmj8K9O8OmeUKtE8gxHoccsrSbGJYzZgoxhwOzrOdDo6JX8//77z26r0Gr/FdqYjTb0WmdTr1j96HGzUlzbDEAbK+go0zr+GEcytmhIPslvxorlJL8ZU6BIPQTEoNiHBr07ohq7a2J0B0Uhqx8sdtzJx44Lpc/JTpDmJJEGF/Loac+eTRzC1hRuvAjCu3RayCmN2aZwmtTnJnRzShwxyW8JRuiyTQQEqfZkHNaU9j+nTbZie7CMZ39ihkViRajS2+cF4fmWGNPMgfZhp5041z1ycHN5I8/UamK2Lk5cuhvgvZXOedb7Bsmvhz1Kro2AINXokl7TefFE8JeXlwmtpMcuSX4gxmBfTw0Cxhj682vSY9UjAzddyKIuZqtixYW7ug3WPedb4RskvwLoKLINAtKD9HnOUgt68EnhBM2DVvniHMvlsvi3lJ1zTg9iSY+7u7uc24rmZVtIj7g9eg+2JmZFjT9YWHpGc7DohTeC5BcCiNs3iID0RPsFAt3b0iHSor3ridRUh5QvX1ALuXEyv9WH4/jz0mhlD+mRnlHM7118Zabn8Ia5D7duMJCzmYgGUnZhzCKlNk3KwqOhZspW3VAjFAUEiiAwhE+8DwQnZdCKGloyqTukbEeEIYJngSJUk3rLm0h+vQew0rbwYERmdd55PA+bPzycHQaOFA7yGUcy71DQemduIPMNiOspVeSfodZUH2UDgRACIg4ceSjId5+dndkljPw79S1DGql4v5UlSD5FAjTY0KCzzqHFzeVTYMt21MSMy1j3Wx++aqknPPmWaKOsdggIUtV4geQ90/JJ9SHlK1buDASXDm8QyetnFWqNdRmlXdHZyQGEJmUXxkxnXO1c+QNfbY1IPki+BcooozkCA6n61qvP1cny5GV82cX84965CIEoPF8ieFozHzukfTRApT/pwYXKk3KjHM8YRDMJCzi/0LUkZqKkFU+5nrUhrDaqguTb4IxSGiMwrObQkZs6Js9kJR8eEnHFyJvvoXwKUlwzJq/GjW1S2NP/PWhFzBo3r0BxIPkAMLgMBEoj4KbN1mvUeVW61TXT6Th3avKkI4OJCFOkOJFX15yfn5cGRSEvBzeXN2WQqY+ZwrBGWaa2Nio2UQw8+QRASD5CBNjLVHrOZCG9ZUoedHidPBP6eNCQ4Y2Qly7zWE4k/QKeP6+Tp+/mRxZuGkJrg5keJ78++vtTObUDX0pO2XSQfFk8IW0DCEhSjcd9B2XJg6YtBfzr05kcPC8HCS895M1LfTh2HtKL33glfVofUs+QflKn+BLKdphJnULn0jbNktqQnOh1N0hqsIvKKZwIki8MKMStj8AQV9Y9dGWNieBpSwHaLKw/pHdrwz8iLDNLC4VtnIdn7w/r9PLyYgeaq6urvviWJ7m4MXHOIjYzXOphpsGH7LLE2w/I49mYRoYmTxAPzc0V84DkK4IL0WsgMHiQuR4bbzNM8fnWB3nu6243fAhu2wxPBOuuKsk7/AJhuKBODRJA8g1ARhENERBe5CHTZvKmaQkjefUjj76iCbTrJQ0sVG6rMmfmHIhb570KT30meEMXapK8kz2b1WzAfJD8BioBKpRDoA85LPCoiHRp22Ei3aenp3LKeSQ9PDzYENH19fV6BN9vUZBYCurRv9+uYAHeXrHRi3LWEXhHwMe21Uh+2zMakHy0MSHxeBAQcW9fBz/AEPKqaz8AbVFG3PQSuDHp1ol1x/XPSK1B8jwDKtTmMqxRZwXJq6FCRiAABKIIbDhkYfUuTPJdqGrjAxu2NYg2WSQCASBwQgjw6pfcB/LHDgE8+WOvQegPBIBAHIHeg5/G77fvhccN06WC5HU4IRcQAAJA4CgRAMkfZbVBaSAABICADgGQvA4n5AICQAAIHCUC/wNOS2RILazJrwAAAABJRU5ErkJggg==)\n"
      ]
    },
    {
      "cell_type": "code",
      "metadata": {
        "id": "Ydc0mXewRFCO",
        "colab_type": "code",
        "colab": {
          "base_uri": "https://localhost:8080/",
          "height": 153
        },
        "outputId": "2c9f05f8-f7e2-41c1-b0fe-8c3c2c294896"
      },
      "source": [
        "import numpy as np\n",
        "import math \n",
        "\n",
        "''' Metodo de la Secante para encontar la raiz de una funcion\n",
        "    x= x1-f(x1)*(x1-x0)/(f(x1)-f(x0)). Entrada de datos: xo, x1,\n",
        "    tolerancia,numero de iteraciones maximo y funcion\n",
        "'''    \n",
        "def Secante(x0,x1,tolerancia,iteraciones,f): #funcion la cual almacena los valores de X0 Y X1, la tolerancia,\n",
        "                            # el numero de iteraciones deseadas y \"f\" la funcion \n",
        "    \n",
        "\n",
        "    print(0,x0,x1)\n",
        "    i=1  #contador de iteraciones\n",
        "    \n",
        "    while i<=iteraciones:\n",
        "        x= x1 - (x1-x0)*f(x1)/(f(x1)-f(x0))  #formula de la secante\n",
        "\n",
        "        print(i,x)  #Imprime el numero de iteraciones respectivas \n",
        "        if abs(x-x1)<tolerancia:  #Aqui condiciono a que el valor \"x\" menos el x1 sea menor a la tolerancia;\n",
        "            return x\n",
        "        i=i + 1\n",
        "        x0=x1    # redefinir x0\n",
        "        x1=x     #redefinir x1\n",
        "\n",
        "    print('El metodo fracaso despues de %d iteraciones' %iteraciones)\n",
        " \n",
        "\n",
        "    \n",
        "f=lambda x: np.cos(4*(x)-1) + 0.5  #funcion \n",
        "x0=0\n",
        "x1=1\n",
        "tolerancia=0.001\n",
        "iteraciones=7\n",
        "    \n",
        "x=Secante(x0,x1,tolerancia,iteraciones,f)\n",
        "print()\n",
        "print('La solucion es: ',x) #retorna las iteraciones "
      ],
      "execution_count": 1,
      "outputs": [
        {
          "output_type": "stream",
          "text": [
            "0 0 1\n",
            "1 0.6798051618485423\n",
            "2 0.8136910904609823\n",
            "3 0.7772112519080354\n",
            "4 0.7734043691833414\n",
            "5 0.7735995961848607\n",
            "\n",
            "La solucion es:  0.7735995961848607\n"
          ],
          "name": "stdout"
        }
      ]
    }
  ]
}