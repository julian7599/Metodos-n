{
  "nbformat": 4,
  "nbformat_minor": 0,
  "metadata": {
    "colab": {
      "name": "Simpson.ipynb",
      "provenance": [],
      "collapsed_sections": [],
      "include_colab_link": true
    },
    "kernelspec": {
      "name": "python3",
      "display_name": "Python 3"
    }
  },
  "cells": [
    {
      "cell_type": "markdown",
      "metadata": {
        "id": "view-in-github",
        "colab_type": "text"
      },
      "source": [
        "<a href=\"https://colab.research.google.com/github/julian7599/metodos-numerios/blob/master/Simpson.ipynb\" target=\"_parent\"><img src=\"https://colab.research.google.com/assets/colab-badge.svg\" alt=\"Open In Colab\"/></a>"
      ]
    },
    {
      "cell_type": "code",
      "metadata": {
        "id": "R9m31v0zGwTA",
        "colab_type": "code",
        "outputId": "ff95f4bd-7842-477a-a533-dcedc70c2d9a",
        "colab": {
          "base_uri": "https://localhost:8080/",
          "height": 535
        }
      },
      "source": [
        "import math as m\n",
        "import sympy  as s\n",
        "import matplotlib.pyplot as plt\n",
        "from scipy import integrate\n",
        "\n",
        "class Help:\n",
        "    def graph(self,x1,fx1,title,x2,fx2):\n",
        "        plt.plot(x1, fx1, label='F(x1)')\n",
        "        plt.plot(x2, fx2, label='F(x2)')\n",
        "        plt.title(title)\n",
        "        plt.ylabel('f(x)')\n",
        "        plt.xlabel('Xn')\n",
        "        plt.legend()\n",
        "        plt.show()\n",
        "\n",
        "    def graphSimpson(self,x,fx,title):\n",
        "        plt.plot(x, fx, label='F(x)')\n",
        "        plt.title(title)\n",
        "        plt.ylabel('f(x)')\n",
        "        plt.xlabel('Xn')\n",
        "        plt.legend()\n",
        "        plt.show()\n",
        "\n",
        "    def TrapezoidWidth(self,a,b,n):\n",
        "        H = (b-a)/n\n",
        "        return round(H,6)\n",
        "\n",
        "    def Error(self,Ireal,Iaproxima):\n",
        "        e = ((Ireal - Iaproxima)/Ireal)*100\n",
        "        return round(abs(e),4)\n",
        "\n",
        "\n",
        "class Simpson(Help):\n",
        "    \n",
        "    def RichardsonSimpson38(self,fx,n,x,h):\n",
        "        sfx = 0\n",
        "        for i in range(1,n):\n",
        "            sfx+=fx[i]\n",
        "        I = ((3*h)/8)*(fx[0]+3*sfx+fx[n])\n",
        "        return round(I,6)\n",
        "\n",
        "    \n",
        "    def body38(self):\n",
        "        x = s.Symbol('x')\n",
        "        n = int(input(\"Ingrese N: \"))\n",
        "\n",
        "        X = []\n",
        "        fx = []\n",
        "        a = float(input(\"Cual es el valor de a: \"))\n",
        "        b = float(input(\"cual es el valor de b: \"))\n",
        "        h = self.TrapezoidWidth(a,b,n)\n",
        "\n",
        "        print(\"El valor de h1 es: \",h)\n",
        "        X.append(a)\n",
        "\n",
        "        for i in range(1,n):\n",
        "            X.append(X[i-1]+h)\n",
        "\n",
        "        X.append(b)\n",
        "\n",
        "        f = 1-m.e**(-x)\n",
        "        fx = [round(s.sympify(f).subs(x,X[k]),6) for k in range(0,n+1)]\n",
        "\n",
        "        I = self.RichardsonSimpson38(fx,n,X,h)\n",
        "\n",
        "        print(\"Integral aproximada: \",I)\n",
        "        fireal = lambda x: 1-m.e**(-x)\n",
        "        Irealf = integrate.quad(fireal, a, b)\n",
        "        print(\"integral original\",round(Irealf[0],6))\n",
        "\n",
        "        E1 = self.Error(round(Irealf[0],6),I)\n",
        "        print(\"El error es : \",E1,\" %\")\n",
        "        self.graphSimpson(X,fx,\"Simpson 3/8\")\n",
        "\n",
        "\n",
        "simpson = Simpson()\n",
        "\n",
        "numero = 0\n",
        "print(\" Metodos Numericos \")\n",
        "while (numero !=2 ):\n",
        "    numero=int(input(\"1.Simpson 3/8  \\n2.Salir\\n\"))\n",
        "    if numero==1:\n",
        "       simpson.body38()\n",
        "    elif numero==2:\n",
        "         print(\"Fin \")\n",
        "   \n",
        "   "
      ],
      "execution_count": 0,
      "outputs": [
        {
          "output_type": "stream",
          "text": [
            " Metodos Numericos \n",
            "1.Simpson 3/8  \n",
            "2.Salir\n",
            "1\n",
            "Ingrese N: 3\n",
            "Cual es el valor de a: 0\n",
            "cual es el valor de b: 3\n",
            "El valor de h1 es:  1.0\n",
            "Integral aproximada:  2.040214\n",
            "integral original 2.049787\n",
            "El error es :  0.467  %\n"
          ],
          "name": "stdout"
        },
        {
          "output_type": "display_data",
          "data": {
            "image/png": "[encoded data removed]",
            "text/plain": [
              "<Figure size 432x288 with 1 Axes>"
            ]
          },
          "metadata": {
            "tags": [],
            "needs_background": "light"
          }
        }
      ]
    }
  ]
}