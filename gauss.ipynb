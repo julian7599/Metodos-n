{
  "nbformat": 4,
  "nbformat_minor": 0,
  "metadata": {
    "colab": {
      "name": "Untitled0.ipynb",
      "provenance": [],
      "authorship_tag": "ABX9TyPx4vvByuOupK+YDagPh0lS",
      "include_colab_link": true
    },
    "kernelspec": {
      "name": "python3",
      "display_name": "Python 3"
    }
  },
  "cells": [
    {
      "cell_type": "markdown",
      "metadata": {
        "id": "view-in-github",
        "colab_type": "text"
      },
      "source": [
        "<a href=\"https://colab.research.google.com/github/julian7599/hello-world/blob/master/gauss.ipynb\" target=\"_parent\"><img src=\"https://colab.research.google.com/assets/colab-badge.svg\" alt=\"Open In Colab\"/></a>"
      ]
    },
    {
      "cell_type": "code",
      "metadata": {
        "id": "D_3sVmbhbAVG",
        "colab_type": "code",
        "colab": {
          "base_uri": "https://localhost:8080/",
          "height": 952
        },
        "outputId": "319458c5-c461-47ef-fefe-7a364e8b4d56"
      },
      "source": [
        "import numpy\n",
        "m=int(input('Valor de m:'))\n",
        "n=int(input('Valor de n:'))\n",
        "matrix = numpy.zeros((m,n))\n",
        "x=numpy.zeros((m))\n",
        "\n",
        "vector=numpy.zeros((n))\n",
        "comp=numpy.zeros((m))\n",
        "error=[]\n",
        "\n",
        "print ('\\n'+'Método de Gauss-Seidel'+'\\n')\n",
        "print ('Introduce la matriz de coeficientes y el vector solución' + '\\n')\n",
        "for r in range(0,m):\n",
        "    for c in range(0,n):\n",
        "        matrix[(r),(c)]=float(input(\"Elemento a[\"+str(r+1)+str(c+1)+\"] \"))\n",
        "    vector[(r)]=float(input('b['+str(r+1)+']: '))\n",
        "tol=float(input(\"¿Cual es la tolerancia que deseas? \"))\n",
        "itera=int(input(\"¿Cual es el numero maxìmo de iteraciones? \"))        \n",
        "print (\"Método de Gauss-Seidel\")\n",
        "\n",
        "k=0\n",
        "while k < itera:\n",
        "    suma=0\n",
        "    k=k+1\n",
        "    for r in range(0,m):\n",
        "        suma=0\n",
        "        for c in range(0,n):\n",
        "            if (c != r):\n",
        "                suma=suma+matrix[r,c]*x[c]               \n",
        "        x[r]=(vector[r]-suma)/matrix[r,r]\n",
        "        print(\"x[\"+str(r)+\"]: \"+str(x[r]))\n",
        "        error[:]    \n",
        "    #Comprobación\n",
        "for r in range(0,m):\n",
        "        suma=0\n",
        "        for c in range(0,n):\n",
        "            suma=suma+matrix[r,c]*x[c]\n",
        "            comp[r]=suma\n",
        "            dif=abs(comp[r]-vector[r])\n",
        "            error.append(dif)\n",
        "            print(\"Error en x[\",r,\"]=\",error[r] )\n",
        "        print(\"iteraciones: \" ,k)\n",
        "        if all( i<=tol for i in error) == True:\n",
        "         break\n",
        "        \n"
      ],
      "execution_count": 2,
      "outputs": [
        {
          "output_type": "stream",
          "text": [
            "Valor de m:3\n",
            "Valor de n:3\n",
            "\n",
            "Método de Gauss-Seidel\n",
            "\n",
            "Introduce la matriz de coeficientes y el vector solución\n",
            "\n",
            "Elemento a[11] 4\n",
            "Elemento a[12] 1\n",
            "Elemento a[13] 1\n",
            "b[1]: 6\n",
            "Elemento a[21] 2\n",
            "Elemento a[22] -5\n",
            "Elemento a[23] 1\n",
            "b[2]: -2\n",
            "Elemento a[31] 1\n",
            "Elemento a[32] 2\n",
            "Elemento a[33] 7\n",
            "b[3]: 10\n",
            "¿Cual es la tolerancia que deseas? 1\n",
            "¿Cual es el numero maxìmo de iteraciones? 7\n",
            "Método de Gauss-Seidel\n",
            "x[0]: 1.5\n",
            "x[1]: 1.0\n",
            "x[2]: 0.9285714285714286\n",
            "x[0]: 1.0178571428571428\n",
            "x[1]: 0.9928571428571429\n",
            "x[2]: 0.9994897959183674\n",
            "x[0]: 1.0019132653061225\n",
            "x[1]: 1.0006632653061225\n",
            "x[2]: 0.9995371720116618\n",
            "x[0]: 0.999949890670554\n",
            "x[1]: 0.9998873906705541\n",
            "x[2]: 1.0000393325697625\n",
            "x[0]: 1.0000183191899208\n",
            "x[1]: 1.000015194189921\n",
            "x[2]: 0.9999930417757482\n",
            "x[0]: 0.9999979410085827\n",
            "x[1]: 0.9999977847585828\n",
            "x[2]: 1.0000009270677503\n",
            "x[0]: 1.0000003220434168\n",
            "x[1]: 1.0000003142309168\n",
            "x[2]: 0.9999998642135356\n",
            "Error en x[ 0 ]= 1.9999987118263327\n",
            "Error en x[ 0 ]= 1.9999987118263327\n",
            "Error en x[ 0 ]= 1.9999987118263327\n",
            "iteraciones:  7\n",
            "Error en x[ 1 ]= 0.9999983975954159\n",
            "Error en x[ 1 ]= 0.9999983975954159\n",
            "Error en x[ 1 ]= 0.9999983975954159\n",
            "iteraciones:  7\n",
            "Error en x[ 2 ]= 1.466618119394525e-06\n",
            "Error en x[ 2 ]= 1.466618119394525e-06\n",
            "Error en x[ 2 ]= 1.466618119394525e-06\n",
            "iteraciones:  7\n"
          ],
          "name": "stdout"
        }
      ]
    }
  ]
}